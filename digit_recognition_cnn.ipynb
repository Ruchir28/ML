{
 "cells": [
  {
   "cell_type": "code",
   "execution_count": 4,
   "metadata": {},
   "outputs": [],
   "source": [
    "import torch\n",
    "import matplotlib.pyplot as plt\n",
    "import torch.utils as utils"
   ]
  },
  {
   "cell_type": "code",
   "execution_count": 2,
   "metadata": {},
   "outputs": [],
   "source": [
    "#IMPORT MNIST DIGIT DATASET\n",
    "from torchvision import datasets, transforms"
   ]
  },
  {
   "cell_type": "code",
   "execution_count": 3,
   "metadata": {},
   "outputs": [
    {
     "name": "stdout",
     "output_type": "stream",
     "text": [
      "Downloading http://yann.lecun.com/exdb/mnist/train-images-idx3-ubyte.gz\n",
      "Downloading http://yann.lecun.com/exdb/mnist/train-images-idx3-ubyte.gz to data/MNIST/raw/train-images-idx3-ubyte.gz\n"
     ]
    },
    {
     "name": "stderr",
     "output_type": "stream",
     "text": [
      "100.0%\n"
     ]
    },
    {
     "name": "stdout",
     "output_type": "stream",
     "text": [
      "Extracting data/MNIST/raw/train-images-idx3-ubyte.gz to data/MNIST/raw\n",
      "\n",
      "Downloading http://yann.lecun.com/exdb/mnist/train-labels-idx1-ubyte.gz\n",
      "Downloading http://yann.lecun.com/exdb/mnist/train-labels-idx1-ubyte.gz to data/MNIST/raw/train-labels-idx1-ubyte.gz\n"
     ]
    },
    {
     "name": "stderr",
     "output_type": "stream",
     "text": [
      "100.0%\n"
     ]
    },
    {
     "name": "stdout",
     "output_type": "stream",
     "text": [
      "Extracting data/MNIST/raw/train-labels-idx1-ubyte.gz to data/MNIST/raw\n",
      "\n",
      "Downloading http://yann.lecun.com/exdb/mnist/t10k-images-idx3-ubyte.gz\n",
      "Downloading http://yann.lecun.com/exdb/mnist/t10k-images-idx3-ubyte.gz to data/MNIST/raw/t10k-images-idx3-ubyte.gz\n"
     ]
    },
    {
     "name": "stderr",
     "output_type": "stream",
     "text": [
      "100.0%\n"
     ]
    },
    {
     "name": "stdout",
     "output_type": "stream",
     "text": [
      "Extracting data/MNIST/raw/t10k-images-idx3-ubyte.gz to data/MNIST/raw\n",
      "\n",
      "Downloading http://yann.lecun.com/exdb/mnist/t10k-labels-idx1-ubyte.gz\n",
      "Downloading http://yann.lecun.com/exdb/mnist/t10k-labels-idx1-ubyte.gz to data/MNIST/raw/t10k-labels-idx1-ubyte.gz\n"
     ]
    },
    {
     "name": "stderr",
     "output_type": "stream",
     "text": [
      "100.0%"
     ]
    },
    {
     "name": "stdout",
     "output_type": "stream",
     "text": [
      "Extracting data/MNIST/raw/t10k-labels-idx1-ubyte.gz to data/MNIST/raw\n",
      "\n"
     ]
    },
    {
     "name": "stderr",
     "output_type": "stream",
     "text": [
      "\n"
     ]
    }
   ],
   "source": [
    "transform = transforms.Compose([\n",
    "    transforms.ToTensor(),\n",
    "    transforms.Normalize((0.5,), (0.5,))\n",
    "])\n",
    "\n",
    "data = datasets.MNIST('data', train=True, download=True, transform=transform)\n",
    "# split the data into training and validation datasets\n",
    "seed_value = 42\n",
    "generator = torch.Generator()\n",
    "generator.manual_seed(seed_value)\n",
    "\n",
    "training_data, validation_data = utils.data.random_split(data, [50000, 10000],generator=generator)\n",
    "\n",
    "test_data = datasets.MNIST('data', train=False, download=True, transform=transform)"
   ]
  },
  {
   "cell_type": "code",
   "execution_count": 5,
   "metadata": {},
   "outputs": [],
   "source": [
    "train_loader = torch.utils.data.DataLoader(training_data, batch_size=64, shuffle=True)"
   ]
  },
  {
   "cell_type": "code",
   "execution_count": 6,
   "metadata": {},
   "outputs": [],
   "source": [
    "validation_loader = torch.utils.data.DataLoader(validation_data, batch_size=64, shuffle=True)\n",
    "test_loader = torch.utils.data.DataLoader(test_data, batch_size=64, shuffle=True)"
   ]
  },
  {
   "cell_type": "code",
   "execution_count": 8,
   "metadata": {},
   "outputs": [],
   "source": [
    "class Net(torch.nn.Module):\n",
    "    def __init__(self):\n",
    "        super().__init__()\n",
    "        self.activation = torch.nn.Sigmoid() ## using sigmoid activation function, because when we \n",
    "        ## are normalizing the pixel values to the range of -1 to 1 , we wouldn't want to lose the negative values\n",
    "        self.conv1 = torch.nn.Conv2d(1, 32, 3,1)\n",
    "        self.conv2 = torch.nn.Conv2d(32,64,3,1)\n",
    "        self.dropout1 = torch.nn.Dropout(0.25)\n",
    "        self.maxpool1 = torch.nn.MaxPool2d(2)\n",
    "        self.fc1 = torch.nn.Linear(9216, 128)\n",
    "        self.fc2 = torch.nn.Linear(128, 10)\n",
    "\n",
    "    \n",
    "    def forward(self, x):\n",
    "        x = self.activation(x)\n",
    "        x = self.conv1(x)\n",
    "        x = self.conv2(x)\n",
    "        x = self.maxpool1(x)\n",
    "        x = self.dropout1(x)\n",
    "        x = torch.flatten(x, 1)\n",
    "        x = self.fc1(x)\n",
    "        x = self.fc2(x)        \n",
    "        return x\n"
   ]
  },
  {
   "cell_type": "code",
   "execution_count": 9,
   "metadata": {},
   "outputs": [],
   "source": [
    "net = Net()"
   ]
  },
  {
   "cell_type": "code",
   "execution_count": 11,
   "metadata": {},
   "outputs": [],
   "source": [
    "optimizer = torch.optim.Adam(net.parameters(), lr=0.001)\n",
    "loss_fn = torch.nn.CrossEntropyLoss()\n",
    "scheduler = torch.optim.lr_scheduler.StepLR(optimizer, step_size=5, gamma=0.1)"
   ]
  },
  {
   "cell_type": "code",
   "execution_count": 12,
   "metadata": {},
   "outputs": [
    {
     "name": "stdout",
     "output_type": "stream",
     "text": [
      "Epoch 1 training accuracy: 91.648% training loss: 0.27869\n",
      "Epoch 1 validation accuracy: 96.58% validation loss: 0.10471\n",
      "Epoch 2 training accuracy: 96.842% training loss: 0.10416\n",
      "Epoch 2 validation accuracy: 97.27% validation loss: 0.08524\n",
      "Epoch 3 training accuracy: 97.47200000000001% training loss: 0.08294\n",
      "Epoch 3 validation accuracy: 97.77% validation loss: 0.07064\n",
      "Epoch 4 training accuracy: 97.622% training loss: 0.07556\n",
      "Epoch 4 validation accuracy: 97.52% validation loss: 0.08282\n",
      "Epoch 5 training accuracy: 97.77799999999999% training loss: 0.06893\n",
      "Epoch 5 validation accuracy: 97.18% validation loss: 0.09863\n",
      "Epoch 6 training accuracy: 98.828% training loss: 0.03846\n",
      "Epoch 6 validation accuracy: 98.18% validation loss: 0.05802\n",
      "Epoch 7 training accuracy: 99.074% training loss: 0.03069\n",
      "Epoch 7 validation accuracy: 98.19% validation loss: 0.05931\n",
      "Epoch 8 training accuracy: 99.076% training loss: 0.02906\n",
      "Epoch 8 validation accuracy: 98.31% validation loss: 0.05831\n",
      "Epoch 9 training accuracy: 99.2% training loss: 0.02628\n",
      "Epoch 9 validation accuracy: 98.25% validation loss: 0.05944\n",
      "Epoch 10 training accuracy: 99.198% training loss: 0.02543\n",
      "Epoch 10 validation accuracy: 98.24000000000001% validation loss: 0.05854\n",
      "Epoch 11 training accuracy: 99.366% training loss: 0.02035\n",
      "Epoch 11 validation accuracy: 98.32% validation loss: 0.05793\n",
      "Epoch 12 training accuracy: 99.388% training loss: 0.01976\n",
      "Epoch 12 validation accuracy: 98.26% validation loss: 0.05824\n",
      "Epoch 13 training accuracy: 99.388% training loss: 0.02064\n",
      "Epoch 13 validation accuracy: 98.34% validation loss: 0.05825\n",
      "Epoch 14 training accuracy: 99.37% training loss: 0.02042\n",
      "Epoch 14 validation accuracy: 98.3% validation loss: 0.05798\n",
      "Epoch 15 training accuracy: 99.42999999999999% training loss: 0.01950\n",
      "Epoch 15 validation accuracy: 98.32% validation loss: 0.05814\n"
     ]
    }
   ],
   "source": [
    "#TRAINING\n",
    "num_epochs = 15\n",
    "train_loss_history = list()\n",
    "val_loss_history = list()\n",
    "\n",
    "for epoch in range(num_epochs):\n",
    "    net.train()\n",
    "    train_loss = 0\n",
    "    train_correct = 0\n",
    "    train_total = 0\n",
    "    for i, data in enumerate(train_loader):\n",
    "        optimizer.zero_grad()\n",
    "        inputs, targets = data\n",
    "        outputs = net(inputs)\n",
    "        loss = loss_fn(outputs, targets)\n",
    "        loss.backward() # this is where the model learns by backpropagating\n",
    "        optimizer.step() # this is where the model optimizes its weights\n",
    "        train_loss += loss.item()\n",
    "        train_correct += (outputs.argmax(1) == targets).sum().item() \n",
    "        train_total += targets.size()[0]\n",
    "    print(f'Epoch {epoch + 1} training accuracy: {((train_correct/train_total*1.0)*100)}% training loss: {train_loss/len(train_loader):.5f}')\n",
    "    scheduler.step()\n",
    "    train_loss_history.append(train_loss/len(train_loader))   \n",
    "    val_loss = 0.0\n",
    "    val_correct = 0\n",
    "    val_total = 0\n",
    "    net.eval()\n",
    "    for inputs, labels in validation_loader:\n",
    "\n",
    "        outputs = net(inputs)\n",
    "        loss = loss_fn(outputs, labels)\n",
    "\n",
    "        _, preds = torch.max(outputs.data, 1)\n",
    "        val_correct += (preds == labels).sum().item()\n",
    "        val_total += labels.size()[0]\n",
    "        val_loss += loss.item()\n",
    "    print(f'Epoch {epoch + 1} validation accuracy: {((val_correct/val_total*1.0)*100)}% validation loss: {val_loss/len(test_loader):.5f}')\n",
    "    val_loss_history.append(val_loss/len(test_loader))"
   ]
  },
  {
   "cell_type": "code",
   "execution_count": 13,
   "metadata": {},
   "outputs": [
    {
     "data": {
      "image/png": "[encoded data removed]",
      "text/plain": [
       "<Figure size 640x480 with 1 Axes>"
      ]
     },
     "metadata": {},
     "output_type": "display_data"
    }
   ],
   "source": [
    "plt.plot(train_loss_history, label=\"Training Loss\")\n",
    "plt.plot(val_loss_history, label=\"Validation Loss\")\n",
    "plt.legend()\n",
    "plt.show()\n"
   ]
  },
  {
   "cell_type": "code",
   "execution_count": 14,
   "metadata": {},
   "outputs": [
    {
     "name": "stdout",
     "output_type": "stream",
     "text": [
      "Model Test accuracy: 98.15% test loss: 0.06955\n"
     ]
    }
   ],
   "source": [
    "test_loss = 0.0\n",
    "test_correct = 0\n",
    "test_total = 0\n",
    "for inputs, labels in test_loader:\n",
    "\n",
    "    outputs = net(inputs)\n",
    "    loss = loss_fn(outputs, labels)\n",
    "\n",
    "    _, preds = torch.max(outputs.data, 1)\n",
    "    test_correct += (preds == labels).sum().item()\n",
    "    test_total += labels.size()[0]\n",
    "    test_loss += loss.item()\n",
    "print(f'Model Test accuracy: {((test_correct/test_total*1.0)*100)}% test loss: {test_loss/len(test_loader):.5f}')"
   ]
  },
  {
   "cell_type": "code",
   "execution_count": null,
   "metadata": {},
   "outputs": [],
   "source": []
  }
 ],
 "metadata": {
  "kernelspec": {
   "display_name": "venv",
   "language": "python",
   "name": "python3"
  },
  "language_info": {
   "codemirror_mode": {
    "name": "ipython",
    "version": 3
   },
   "file_extension": ".py",
   "mimetype": "text/x-python",
   "name": "python",
   "nbconvert_exporter": "python",
   "pygments_lexer": "ipython3",
   "version": "3.9.10"
  }
 },
 "nbformat": 4,
 "nbformat_minor": 2
}
