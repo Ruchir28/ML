{
  "cells": [
    {
      "cell_type": "code",
      "execution_count": 23,
      "metadata": {
        "id": "5Lsz6VAZU7tC"
      },
      "outputs": [],
      "source": [
        "import torch\n",
        "import matplotlib.pyplot as plt\n",
        "import torch.utils as utils"
      ]
    },
    {
      "cell_type": "code",
      "execution_count": 24,
      "metadata": {
        "id": "4jjBunsNU7tD"
      },
      "outputs": [],
      "source": [
        "#IMPORT MNIST DIGIT DATASET\n",
        "from torchvision import datasets, transforms"
      ]
    },
    {
      "cell_type": "code",
      "execution_count": 25,
      "metadata": {
        "id": "bNGvSt3qU7tD"
      },
      "outputs": [],
      "source": [
        "transform = transforms.Compose([\n",
        "    transforms.ToTensor(),\n",
        "    transforms.Normalize((0.5,), (0.5,))\n",
        "])\n",
        "\n",
        "data = datasets.MNIST('data', train=True, download=True, transform=transform)\n",
        "# split the data into training and validation datasets\n",
        "seed_value = 42\n",
        "generator = torch.Generator()\n",
        "generator.manual_seed(seed_value)\n",
        "\n",
        "training_data, validation_data = utils.data.random_split(data, [50000, 10000],generator=generator)\n",
        "\n",
        "test_data = datasets.MNIST('data', train=False, download=True, transform=transform)"
      ]
    },
    {
      "cell_type": "code",
      "execution_count": 26,
      "metadata": {
        "id": "_xwHp37HU7tE"
      },
      "outputs": [],
      "source": [
        "train_loader = torch.utils.data.DataLoader(training_data, batch_size=64, shuffle=True)"
      ]
    },
    {
      "cell_type": "code",
      "execution_count": 27,
      "metadata": {
        "id": "TIz_uSXUU7tE"
      },
      "outputs": [],
      "source": [
        "validation_loader = torch.utils.data.DataLoader(validation_data, batch_size=64, shuffle=True)\n",
        "test_loader = torch.utils.data.DataLoader(test_data, batch_size=64, shuffle=True)"
      ]
    },
    {
      "cell_type": "code",
      "execution_count": 28,
      "metadata": {
        "id": "C6_eitovU7tE"
      },
      "outputs": [],
      "source": [
        "class Net(torch.nn.Module):\n",
        "    def __init__(self):\n",
        "        super().__init__()\n",
        "        self.activation = torch.nn.Sigmoid() ## using sigmoid activation function, because when we\n",
        "        ## are normalizing the pixel values to the range of -1 to 1 , we wouldn't want to lose the negative values\n",
        "        self.conv1 = torch.nn.Conv2d(1, 32, 3,1)\n",
        "        self.conv2 = torch.nn.Conv2d(32,64,3,1)\n",
        "        self.dropout1 = torch.nn.Dropout(0.25)\n",
        "        self.maxpool1 = torch.nn.MaxPool2d(2)\n",
        "        self.fc1 = torch.nn.Linear(9216, 128)\n",
        "        self.fc2 = torch.nn.Linear(128, 10)\n",
        "\n",
        "\n",
        "    def forward(self, x):\n",
        "        x = self.activation(x)\n",
        "        x = self.conv1(x)\n",
        "        x = self.conv2(x)\n",
        "        x = self.maxpool1(x)\n",
        "        x = self.dropout1(x)\n",
        "        x = torch.flatten(x, 1)\n",
        "        x = self.fc1(x)\n",
        "        x = self.fc2(x)\n",
        "        return x\n"
      ]
    },
    {
      "cell_type": "code",
      "execution_count": 29,
      "metadata": {
        "id": "fYrA2AyQU7tE",
        "outputId": "8f386f69-f2e9-43ae-f60c-1fa17897d2e4",
        "colab": {
          "base_uri": "https://localhost:8080/"
        }
      },
      "outputs": [
        {
          "output_type": "execute_result",
          "data": {
            "text/plain": [
              "Net(\n",
              "  (activation): Sigmoid()\n",
              "  (conv1): Conv2d(1, 32, kernel_size=(3, 3), stride=(1, 1))\n",
              "  (conv2): Conv2d(32, 64, kernel_size=(3, 3), stride=(1, 1))\n",
              "  (dropout1): Dropout(p=0.25, inplace=False)\n",
              "  (maxpool1): MaxPool2d(kernel_size=2, stride=2, padding=0, dilation=1, ceil_mode=False)\n",
              "  (fc1): Linear(in_features=9216, out_features=128, bias=True)\n",
              "  (fc2): Linear(in_features=128, out_features=10, bias=True)\n",
              ")"
            ]
          },
          "metadata": {},
          "execution_count": 29
        }
      ],
      "source": [
        "net = Net()\n",
        "\n",
        "# check for gpu and compute on it if available\n",
        "device = torch.device('cuda' if torch.cuda.is_available() else 'cpu')\n",
        "net.to(device)\n",
        "\n"
      ]
    },
    {
      "cell_type": "code",
      "execution_count": 30,
      "metadata": {
        "id": "JibI_gSmU7tE"
      },
      "outputs": [],
      "source": [
        "optimizer = torch.optim.Adam(net.parameters(), lr=0.001)\n",
        "loss_fn = torch.nn.CrossEntropyLoss()\n",
        "scheduler = torch.optim.lr_scheduler.StepLR(optimizer, step_size=5, gamma=0.1)"
      ]
    },
    {
      "cell_type": "code",
      "execution_count": 36,
      "metadata": {
        "id": "_y1kVNyDU7tE",
        "outputId": "0a42b509-3b35-4d13-cbbf-facd4e0d6046",
        "colab": {
          "base_uri": "https://localhost:8080/"
        }
      },
      "outputs": [
        {
          "output_type": "stream",
          "name": "stdout",
          "text": [
            "Epoch 1 training accuracy: 99.514% training loss: 0.01665\n",
            "Epoch 1 validation accuracy: 98.18% validation loss: 0.07115\n",
            "Epoch 2 training accuracy: 99.502% training loss: 0.01646\n",
            "Epoch 2 validation accuracy: 98.19% validation loss: 0.07098\n",
            "Epoch 3 training accuracy: 99.48599999999999% training loss: 0.01626\n",
            "Epoch 3 validation accuracy: 98.18% validation loss: 0.07203\n",
            "Epoch 4 training accuracy: 99.53% training loss: 0.01590\n",
            "Epoch 4 validation accuracy: 98.18% validation loss: 0.07208\n",
            "Epoch 5 training accuracy: 99.48% training loss: 0.01660\n",
            "Epoch 5 validation accuracy: 98.18% validation loss: 0.07097\n",
            "Epoch 6 training accuracy: 99.52600000000001% training loss: 0.01619\n",
            "Epoch 6 validation accuracy: 98.18% validation loss: 0.07127\n",
            "Epoch 7 training accuracy: 99.516% training loss: 0.01620\n",
            "Epoch 7 validation accuracy: 98.18% validation loss: 0.07169\n",
            "Epoch 8 training accuracy: 99.544% training loss: 0.01564\n",
            "Epoch 8 validation accuracy: 98.17% validation loss: 0.07101\n",
            "Epoch 9 training accuracy: 99.536% training loss: 0.01618\n",
            "Epoch 9 validation accuracy: 98.17% validation loss: 0.07097\n",
            "Epoch 10 training accuracy: 99.534% training loss: 0.01611\n",
            "Epoch 10 validation accuracy: 98.17% validation loss: 0.07097\n",
            "Epoch 11 training accuracy: 99.518% training loss: 0.01642\n",
            "Epoch 11 validation accuracy: 98.17% validation loss: 0.07100\n",
            "Epoch 12 training accuracy: 99.514% training loss: 0.01688\n",
            "Epoch 12 validation accuracy: 98.17% validation loss: 0.07097\n",
            "Epoch 13 training accuracy: 99.5% training loss: 0.01651\n",
            "Epoch 13 validation accuracy: 98.17% validation loss: 0.07130\n",
            "Epoch 14 training accuracy: 99.518% training loss: 0.01628\n",
            "Epoch 14 validation accuracy: 98.17% validation loss: 0.07219\n",
            "Epoch 15 training accuracy: 99.528% training loss: 0.01644\n",
            "Epoch 15 validation accuracy: 98.17% validation loss: 0.07097\n"
          ]
        }
      ],
      "source": [
        "#TRAINING\n",
        "num_epochs = 15\n",
        "train_loss_history = list()\n",
        "val_loss_history = list()\n",
        "\n",
        "\n",
        "for epoch in range(num_epochs):\n",
        "    net.train()\n",
        "    train_loss = 0\n",
        "    train_correct = 0\n",
        "    train_total = 0\n",
        "    for i, (inputs,targets) in enumerate(train_loader):\n",
        "        optimizer.zero_grad()\n",
        "        inputs, targets = inputs.to(device), targets.to(device)\n",
        "        outputs = net(inputs)\n",
        "        outputs = outputs.to(device)\n",
        "        #print(f'inputs.shape {inputs.shape}, outputs.shape {outputs.shape}')\n",
        "        loss = loss_fn(outputs, targets)\n",
        "        loss.backward() # this is where the model learns by backpropagating\n",
        "        optimizer.step() # this is where the model optimizes its weights\n",
        "        train_loss += loss.item()\n",
        "        train_correct += (outputs.argmax(1) == targets).sum().item()\n",
        "        train_total += targets.size()[0]\n",
        "    print(f'Epoch {epoch + 1} training accuracy: {((train_correct/train_total*1.0)*100)}% training loss: {train_loss/len(train_loader):.5f}')\n",
        "    scheduler.step()\n",
        "    train_loss_history.append(train_loss/len(train_loader))\n",
        "    val_loss = 0.0\n",
        "    val_correct = 0\n",
        "    val_total = 0\n",
        "    net.eval()\n",
        "    for inputs, labels in validation_loader:\n",
        "        inputs,labels = inputs.to(device),labels.to(device)\n",
        "        outputs = net(inputs)\n",
        "        outputs = outputs.to(device)\n",
        "        loss = loss_fn(outputs, labels)\n",
        "\n",
        "        _, preds = torch.max(outputs.data, 1)\n",
        "        val_correct += (preds == labels).sum().item()\n",
        "        val_total += labels.size()[0]\n",
        "        val_loss += loss.item()\n",
        "    print(f'Epoch {epoch + 1} validation accuracy: {((val_correct/val_total*1.0)*100)}% validation loss: {val_loss/len(test_loader):.5f}')\n",
        "    val_loss_history.append(val_loss/len(test_loader))"
      ]
    },
    {
      "cell_type": "code",
      "execution_count": 37,
      "metadata": {
        "id": "VrtzSYoMU7tF",
        "outputId": "8d97d541-438e-49f6-acb7-40ae98fdc43e",
        "colab": {
          "base_uri": "https://localhost:8080/",
          "height": 430
        }
      },
      "outputs": [
        {
          "output_type": "display_data",
          "data": {
            "text/plain": [
              "<Figure size 640x480 with 1 Axes>"
            ],
            "image/png": "[encoded data removed]"
          },
          "metadata": {}
        }
      ],
      "source": [
        "plt.plot(train_loss_history, label=\"Training Loss\")\n",
        "plt.plot(val_loss_history, label=\"Validation Loss\")\n",
        "plt.legend()\n",
        "plt.show()\n"
      ]
    },
    {
      "cell_type": "code",
      "execution_count": 38,
      "metadata": {
        "id": "R174FE08U7tF",
        "outputId": "104dd610-e8d5-435c-92b4-2c19f0ab0d68",
        "colab": {
          "base_uri": "https://localhost:8080/"
        }
      },
      "outputs": [
        {
          "output_type": "stream",
          "name": "stdout",
          "text": [
            "Model Test accuracy: 98.29% test loss: 0.06714\n"
          ]
        }
      ],
      "source": [
        "test_loss = 0.0\n",
        "test_correct = 0\n",
        "test_total = 0\n",
        "for inputs, labels in test_loader:\n",
        "    inputs,labels = inputs.to(device),labels.to(device)\n",
        "    outputs = net(inputs).to(device)\n",
        "    loss = loss_fn(outputs, labels)\n",
        "\n",
        "\n",
        "    _, preds = torch.max(outputs.data, 1)\n",
        "    test_correct += (preds == labels).sum().item()\n",
        "    test_total += labels.size()[0]\n",
        "    test_loss += loss.item()\n",
        "print(f'Model Test accuracy: {((test_correct/test_total*1.0)*100)}% test loss: {test_loss/len(test_loader):.5f}')"
      ]
    },
    {
      "cell_type": "code",
      "execution_count": null,
      "metadata": {
        "id": "YTBtcHOcU7tF"
      },
      "outputs": [],
      "source": []
    }
  ],
  "metadata": {
    "kernelspec": {
      "display_name": "Python 3",
      "name": "python3"
    },
    "language_info": {
      "codemirror_mode": {
        "name": "ipython",
        "version": 3
      },
      "file_extension": ".py",
      "mimetype": "text/x-python",
      "name": "python",
      "nbconvert_exporter": "python",
      "pygments_lexer": "ipython3",
      "version": "3.9.10"
    },
    "colab": {
      "provenance": [],
      "gpuType": "T4"
    },
    "accelerator": "GPU"
  },
  "nbformat": 4,
  "nbformat_minor": 0
}